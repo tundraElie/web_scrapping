{
 "cells": [
  {
   "attachments": {},
   "cell_type": "markdown",
   "metadata": {},
   "source": [
    "# AO3"
   ]
  },
  {
   "cell_type": "code",
   "execution_count": 1,
   "metadata": {},
   "outputs": [],
   "source": [
    "import requests"
   ]
  },
  {
   "cell_type": "code",
   "execution_count": 2,
   "metadata": {},
   "outputs": [],
   "source": [
    "from bs4 import BeautifulSoup"
   ]
  },
  {
   "cell_type": "code",
   "execution_count": 35,
   "metadata": {},
   "outputs": [],
   "source": [
    "import matplotlib.pyplot as plt\n",
    "from tqdm import tqdm"
   ]
  },
  {
   "cell_type": "code",
   "execution_count": 39,
   "metadata": {},
   "outputs": [
    {
     "name": "stdout",
     "output_type": "stream",
     "text": [
      "2097\n"
     ]
    },
    {
     "name": "stderr",
     "output_type": "stream",
     "text": [
      " 65%|██████▌   | 1365/2097 [17:00<20:11,  1.66s/it]"
     ]
    }
   ],
   "source": [
    "def graficosTagsAO3(Tag='Childhood%20Friends'):\n",
    "  url = 'https://archiveofourown.org/tags/{}/works?page=1'.format(Tag)\n",
    "  page = requests.get(url)\n",
    "  soup = BeautifulSoup(page.text, 'html.parser')\n",
    "  count = soup.find_all(\"ol\", class_=\"pagination actions\")[0].get_text().split(' ')[-3]\n",
    "  dates = []\n",
    "  dicc = {}\n",
    "  for i in tqdm(range(int(count))):\n",
    "    url = 'https://archiveofourown.org/tags/'+Tag+'/works?page='+str(i)\n",
    "    page = requests.get(url)\n",
    "    soup = BeautifulSoup(page.text, 'html.parser')\n",
    "    for el in soup.find_all(\"p\", class_=\"datetime\"):\n",
    "      eltext = el.get_text()\n",
    "      if eltext in dicc:\n",
    "        dicc[eltext] += 1\n",
    "      else:\n",
    "        dicc[eltext] = 0\n",
    "      # dates.append(eltext)\n",
    "    # print(dicc)\n",
    "  # print(len(dates))\n",
    "  print(dicc)\n",
    "  return dicc"
   ]
  },
  {
   "cell_type": "code",
   "execution_count": null,
   "metadata": {},
   "outputs": [],
   "source": [
    "lists = sorted(dicc.items()) # sorted by key, return a list of tuples\n",
    "\n",
    "x, y = zip(*lists) # unpack a list of pairs into two tuples\n",
    "\n",
    "plt.plot(x, y)\n",
    "plt.show()"
   ]
  },
  {
   "cell_type": "code",
   "execution_count": null,
   "metadata": {},
   "outputs": [],
   "source": []
  },
  {
   "cell_type": "code",
   "execution_count": null,
   "metadata": {},
   "outputs": [],
   "source": []
  }
 ],
 "metadata": {
  "kernelspec": {
   "display_name": "Python 3",
   "language": "python",
   "name": "python3"
  },
  "language_info": {
   "codemirror_mode": {
    "name": "ipython",
    "version": 3
   },
   "file_extension": ".py",
   "mimetype": "text/x-python",
   "name": "python",
   "nbconvert_exporter": "python",
   "pygments_lexer": "ipython3",
   "version": "3.11.1"
  },
  "orig_nbformat": 4,
  "vscode": {
   "interpreter": {
    "hash": "b3b4f1c378f86d73596ecc2e33234ee8613e0386b6630eab47761d1a8418e19d"
   }
  }
 },
 "nbformat": 4,
 "nbformat_minor": 2
}
